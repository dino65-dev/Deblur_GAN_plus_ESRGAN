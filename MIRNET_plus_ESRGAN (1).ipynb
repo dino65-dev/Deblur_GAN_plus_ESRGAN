{
  "nbformat": 4,
  "nbformat_minor": 0,
  "metadata": {
    "colab": {
      "provenance": [],
      "gpuType": "T4"
    },
    "kernelspec": {
      "name": "python3",
      "display_name": "Python 3"
    },
    "language_info": {
      "name": "python"
    },
    "accelerator": "GPU"
  },
  "cells": [
    {
      "cell_type": "markdown",
      "source": [
        "# **Low-light-Enhancer**"
      ],
      "metadata": {
        "id": "1n0QUO2CUlJN"
      }
    },
    {
      "cell_type": "code",
      "source": [
        "! pip install keras"
      ],
      "metadata": {
        "id": "n3POvVJ-TqeX"
      },
      "execution_count": null,
      "outputs": []
    },
    {
      "cell_type": "code",
      "source": [
        "! pip install huggingface_hub"
      ],
      "metadata": {
        "id": "zjW5zRo0TqbX"
      },
      "execution_count": null,
      "outputs": []
    },
    {
      "cell_type": "code",
      "source": [
        "import numpy as np # array manipulation\n",
        "from huggingface_hub import from_pretrained_keras # download the model\n",
        "import keras # deep learning\n",
        "from PIL import Image # Image processing"
      ],
      "metadata": {
        "id": "JAmcfosFTqF3"
      },
      "execution_count": null,
      "outputs": []
    },
    {
      "cell_type": "code",
      "source": [
        "model = from_pretrained_keras(\"keras-io/lowlight-enhance-mirnet\", compile=False)"
      ],
      "metadata": {
        "id": "8_2S8rfUTw_a"
      },
      "execution_count": null,
      "outputs": []
    },
    {
      "cell_type": "code",
      "source": [
        "low_light_img = Image.open('/kaggle/input/low-light/lowlight.jpg').convert('RGB') #place the input image path here"
      ],
      "metadata": {
        "id": "0XSbfHXLTzz3"
      },
      "execution_count": null,
      "outputs": []
    },
    {
      "cell_type": "code",
      "source": [
        "low_light_img"
      ],
      "metadata": {
        "id": "SjMWXiqoT193"
      },
      "execution_count": null,
      "outputs": []
    },
    {
      "cell_type": "code",
      "source": [
        "low_light_img = low_light_img.resize((256,256),Image.NEAREST)"
      ],
      "metadata": {
        "id": "EjQTLlkrT3_j"
      },
      "execution_count": null,
      "outputs": []
    },
    {
      "cell_type": "code",
      "source": [
        "low_light_img"
      ],
      "metadata": {
        "id": "ZGPay7OpT523"
      },
      "execution_count": null,
      "outputs": []
    },
    {
      "cell_type": "code",
      "source": [
        "image = keras.preprocessing.image.img_to_array(low_light_img)"
      ],
      "metadata": {
        "id": "gvWbY60bT7jI"
      },
      "execution_count": null,
      "outputs": []
    },
    {
      "cell_type": "code",
      "source": [
        "image.shape"
      ],
      "metadata": {
        "id": "Wqjtxr22T9sH"
      },
      "execution_count": null,
      "outputs": []
    },
    {
      "cell_type": "code",
      "source": [
        "image = image.astype('float32') / 255.0"
      ],
      "metadata": {
        "id": "S28MYhyAT_h3"
      },
      "execution_count": null,
      "outputs": []
    },
    {
      "cell_type": "code",
      "source": [
        "image.shape"
      ],
      "metadata": {
        "id": "O_LCk-hqUBvH"
      },
      "execution_count": null,
      "outputs": []
    },
    {
      "cell_type": "code",
      "source": [
        "image = np.expand_dims(image, axis = 0)"
      ],
      "metadata": {
        "id": "b489KGY8UEMX"
      },
      "execution_count": null,
      "outputs": []
    },
    {
      "cell_type": "code",
      "source": [
        "image.shape\n",
        "output = model.predict(image) # model inference to enhance the low light pics"
      ],
      "metadata": {
        "id": "5Dy7HyyEUGcl"
      },
      "execution_count": null,
      "outputs": []
    },
    {
      "cell_type": "code",
      "source": [
        "output_image = output[0] * 255.0\n",
        "output_image.shape"
      ],
      "metadata": {
        "id": "1TYXmwbgUKdw"
      },
      "execution_count": null,
      "outputs": []
    },
    {
      "cell_type": "code",
      "source": [
        "output_image = output_image.clip(0,255)"
      ],
      "metadata": {
        "id": "_sJ4SYThURlP"
      },
      "execution_count": null,
      "outputs": []
    },
    {
      "cell_type": "code",
      "source": [
        "output_image = output_image.reshape((np.shape(output_image)[0],np.shape(output_image)[1],3))"
      ],
      "metadata": {
        "id": "6qdhBy0HUTtY"
      },
      "execution_count": null,
      "outputs": []
    },
    {
      "cell_type": "code",
      "source": [
        "output_image"
      ],
      "metadata": {
        "id": "7a7F1PPYUZ0n"
      },
      "execution_count": null,
      "outputs": []
    },
    {
      "cell_type": "code",
      "source": [
        "!git clone https://github.com/dino65-dev/ESRGAN_Model.git"
      ],
      "metadata": {
        "id": "ic_Ys2c_UcMQ"
      },
      "execution_count": null,
      "outputs": []
    },
    {
      "cell_type": "code",
      "source": [
        "import os\n",
        "import uuid  # For generating unique filenames\n",
        "from PIL import Image\n",
        "import numpy as np\n",
        "\n",
        "# ... (your existing code) ...\n",
        "\n",
        "output_image = np.uint32(output_image)\n",
        "image_to_save = Image.fromarray(output_image.astype('uint8'), 'RGB')\n",
        "\n",
        "folder_path = '/kaggle/working/'  # Replace with the actual folder path\n",
        "\n",
        "# Generate a unique filename using uuid\n",
        "unique_filename = str(uuid.uuid4()) + '.png'  # or .jpg, .jpeg, etc.\n",
        "\n",
        "# Combine folder path and filename\n",
        "file_path = os.path.join(folder_path, unique_filename)\n",
        "\n",
        "image_to_save.save(file_path)"
      ],
      "metadata": {
        "id": "6AJpieDkUeWf"
      },
      "execution_count": null,
      "outputs": []
    },
    {
      "cell_type": "markdown",
      "source": [
        "# **ESRGAN**"
      ],
      "metadata": {
        "id": "zTTnhUfJ2Hg9"
      }
    },
    {
      "cell_type": "code",
      "source": [
        "%cd ESRGAN_Model/"
      ],
      "metadata": {
        "colab": {
          "base_uri": "https://localhost:8080/"
        },
        "id": "lk1g34mtd54W",
        "outputId": "22bb0d11-e3a9-4b9b-e970-78752cfb279e"
      },
      "execution_count": null,
      "outputs": [
        {
          "output_type": "stream",
          "name": "stdout",
          "text": [
            "/content/ESRGAN_Model\n"
          ]
        }
      ]
    },
    {
      "cell_type": "code",
      "source": [
        "from PIL import Image\n",
        "from google.colab import files  # Use this in Colab for file upload\n",
        "import os\n",
        "\n",
        "# Function to resize and save the image\n",
        "def resize_and_save_image(input_image_path, output_image_path):\n",
        "    # Open the image file\n",
        "    with Image.open(input_image_path) as img:\n",
        "        # Resize the image to 500x480\n",
        "        resized_image = img.resize((500, 480))\n",
        "        # Save the resized image to the specified location\n",
        "        resized_image.save(output_image_path)\n",
        "        print(f\"Image saved to {output_image_path}\")\n",
        "\n",
        "# Specify input image path and output file location\n",
        "input_image = '/content/DeblurGANv2/my.jpg'  # paste the path here\n",
        "output_image = '/content/DeblurGANv2/my.jpg'  # Replace with desired save location\n",
        "\n",
        "# Call the function\n",
        "resize_and_save_image(input_image, output_image)\n"
      ],
      "metadata": {
        "colab": {
          "base_uri": "https://localhost:8080/"
        },
        "collapsed": true,
        "id": "arwRIonKn0nC",
        "outputId": "2d9a08da-4b6a-42d3-cafe-3451a4dcf57e"
      },
      "execution_count": null,
      "outputs": [
        {
          "output_type": "stream",
          "name": "stdout",
          "text": [
            "Image saved to /content/DeblurGANv2/my.jpg\n"
          ]
        }
      ]
    },
    {
      "cell_type": "markdown",
      "source": [
        "If the upper code doesn't work then go to the folder that you created , down the image and upload it to ESRGAN_Model/LR"
      ],
      "metadata": {
        "id": "WFoIW98f-5ho"
      }
    },
    {
      "cell_type": "markdown",
      "source": [
        "This model will use A100 gpu if you don't resize the input image to 500x480"
      ],
      "metadata": {
        "id": "RC6dTnGG_ttw"
      }
    },
    {
      "cell_type": "code",
      "source": [
        "import os\n",
        "os.environ[\"PYTORCH_CUDA_ALLOC_CONF\"] = \"expandable_segments:True\"\n",
        "!python test.py --image_size 224"
      ],
      "metadata": {
        "id": "wll4sLvaeLQ_"
      },
      "execution_count": null,
      "outputs": []
    }
  ]
}